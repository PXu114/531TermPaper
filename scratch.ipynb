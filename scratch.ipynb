{
 "cells": [
  {
   "cell_type": "code",
   "execution_count": 2,
   "metadata": {},
   "outputs": [],
   "source": [
    "import numpy as np\n",
    "import matplotlib.pyplot as plt\n",
    "from scipy.integrate import odeint\n",
    "\n",
    "# Definie initial conditions:\n",
    "r = 0\n",
    "k = 0\n",
    "m = 0\n",
    "delta = 0\n",
    "beta = 0\n",
    "gamma = 0\n",
    "C_1 = 0\n",
    "C_2 = 0\n",
    "C_3 = 0\n",
    "C_4 = 0\n",
    "\n",
    "h = 0.1  # Step size\n",
    "n_steps = int(1 / h)  # Number of steps for x in [0, 1]\n",
    "\n",
    "# Initial values\n",
    "t0 = 0.0\n",
    "y0 = 0.0\n",
    "\n",
    "# Define ODEs:\n",
    "def A(t,y):\n",
    "    return C_1 * np.exp((r - m - m) * t - (k* C_2) * np.exp(-delta*t)/(delta))\n",
    "\n",
    "def B(t,y):\n",
    "    return C_2 * np.exp(-delta*t)\n",
    "\n",
    "def C(t,y):\n",
    "    integrand = k * A(t,y) * B(t,y) * np.exp(beta + gamma)*t\n",
    "    C_int = odeint(integrand, 0, t, args=(A(t,y), B(t,y), beta, gamma, k))\n",
    "    return np.exp(-(beta + gamma)*t) + C_int + C_3 * np.exp(-(beta + gamma) * t)\n",
    "\n",
    "def Ap(t,y):\n",
    "    integrand = np.exp((r + k)*t) * (m*A(t,y) + gamma*C(t,y))\n",
    "    Ap_int = odeint(integrand, 0, t, args=(A(t,y), C(t,y), gamma, r, m, k))\n",
    "    return np.exp(-(r+k)*t) * Ap_int + C_4 * np.exp(-(r+k)*t)\n",
    "\n",
    "\n",
    "# iterative methods\n",
    "\n",
    "\n",
    "# plot results"
   ]
  },
  {
   "cell_type": "code",
   "execution_count": null,
   "metadata": {},
   "outputs": [],
   "source": []
  }
 ],
 "metadata": {
  "kernelspec": {
   "display_name": "Python 3",
   "language": "python",
   "name": "python3"
  },
  "language_info": {
   "codemirror_mode": {
    "name": "ipython",
    "version": 3
   },
   "file_extension": ".py",
   "mimetype": "text/x-python",
   "name": "python",
   "nbconvert_exporter": "python",
   "pygments_lexer": "ipython3",
   "version": "3.12.4"
  }
 },
 "nbformat": 4,
 "nbformat_minor": 2
}
